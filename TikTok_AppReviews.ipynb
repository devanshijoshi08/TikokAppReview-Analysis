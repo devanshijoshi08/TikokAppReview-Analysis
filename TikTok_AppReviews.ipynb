{
 "cells": [
  {
   "cell_type": "markdown",
   "metadata": {},
   "source": [
    "### TikTok App Reviews"
   ]
  },
  {
   "cell_type": "code",
   "execution_count": 31,
   "metadata": {},
   "outputs": [],
   "source": [
    "import pandas as pd\n",
    "import numpy as np\n",
    "from nltk.corpus import stopwords\n",
    "from nltk.stem import WordNetLemmatizer\n",
    "import re \n",
    "from wordcloud import WordCloud\n",
    "from collections import Counter\n",
    "import nltk\n",
    "import torch\n",
    "from gensim import corpora, models\n",
    "from nltk.sentiment import SentimentIntensityAnalyzer\n",
    "from nltk.tokenize import word_tokenize\n",
    "from nltk.tag import pos_tag\n",
    "from nltk.chunk import ne_chunk\n",
    "import nltk\n",
    "import matplotlib.pyplot as plt\n",
    "import gensim\n",
    "from nltk.stem import WordNetLemmatizer, SnowballStemmer\n",
    "import numpy as np\n",
    "from transformers import BertModel, BertTokenizer\n",
    "import seaborn as sns\n"
   ]
  },
  {
   "cell_type": "code",
   "execution_count": 5,
   "metadata": {},
   "outputs": [
    {
     "name": "stderr",
     "output_type": "stream",
     "text": [
      "[nltk_data] Downloading package stopwords to\n",
      "[nltk_data]     C:\\Users\\devuj\\AppData\\Roaming\\nltk_data...\n",
      "[nltk_data]   Package stopwords is already up-to-date!\n",
      "[nltk_data] Downloading package wordnet to\n",
      "[nltk_data]     C:\\Users\\devuj\\AppData\\Roaming\\nltk_data...\n",
      "[nltk_data]   Package wordnet is already up-to-date!\n"
     ]
    },
    {
     "data": {
      "text/plain": [
       "True"
      ]
     },
     "execution_count": 5,
     "metadata": {},
     "output_type": "execute_result"
    }
   ],
   "source": [
    "nltk.download('stopwords')\n",
    "nltk.download('wordnet')"
   ]
  },
  {
   "cell_type": "code",
   "execution_count": 7,
   "metadata": {},
   "outputs": [],
   "source": [
    "reviewsDataset = pd.read_csv('tiktok_app_reviews.csv',dtype={'app_version': str},low_memory=False)"
   ]
  },
  {
   "cell_type": "code",
   "execution_count": 8,
   "metadata": {},
   "outputs": [
    {
     "data": {
      "text/html": [
       "<div>\n",
       "<style scoped>\n",
       "    .dataframe tbody tr th:only-of-type {\n",
       "        vertical-align: middle;\n",
       "    }\n",
       "\n",
       "    .dataframe tbody tr th {\n",
       "        vertical-align: top;\n",
       "    }\n",
       "\n",
       "    .dataframe thead th {\n",
       "        text-align: right;\n",
       "    }\n",
       "</style>\n",
       "<table border=\"1\" class=\"dataframe\">\n",
       "  <thead>\n",
       "    <tr style=\"text-align: right;\">\n",
       "      <th></th>\n",
       "      <th>review_id</th>\n",
       "      <th>review_text</th>\n",
       "      <th>upvotes</th>\n",
       "      <th>app_version</th>\n",
       "      <th>posted_date</th>\n",
       "    </tr>\n",
       "  </thead>\n",
       "  <tbody>\n",
       "    <tr>\n",
       "      <th>0</th>\n",
       "      <td>gp:AOqpTOGSsGv5rOA79ttW2LE0FeMYvkdUuXRMTfbyMk0...</td>\n",
       "      <td>It is an excellent solution to finding videos ...</td>\n",
       "      <td>402</td>\n",
       "      <td>21.2.5</td>\n",
       "      <td>2021-09-20 07:50:23</td>\n",
       "    </tr>\n",
       "    <tr>\n",
       "      <th>1</th>\n",
       "      <td>gp:AOqpTOEDQ9__FJihY_0V4iwqy4P2OK8tGVR1tFBixYb...</td>\n",
       "      <td>Great app works really well so many features s...</td>\n",
       "      <td>67</td>\n",
       "      <td>21.2.5</td>\n",
       "      <td>2021-09-19 23:10:47</td>\n",
       "    </tr>\n",
       "    <tr>\n",
       "      <th>2</th>\n",
       "      <td>gp:AOqpTOEGEfr8TL0iKTlpbTDeM8P7HywlMmP9CkHMoaT...</td>\n",
       "      <td>I down loaded app but didnt work . i love this...</td>\n",
       "      <td>24</td>\n",
       "      <td>21.2.5</td>\n",
       "      <td>2021-09-19 08:59:34</td>\n",
       "    </tr>\n",
       "    <tr>\n",
       "      <th>3</th>\n",
       "      <td>gp:AOqpTOGZBDl9dpghmb43Mx1tnlWCOjNXyuVn5Mxf49c...</td>\n",
       "      <td>IT A GREAT APP AND FUN TO USE! HOWEVER ARBITRA...</td>\n",
       "      <td>18</td>\n",
       "      <td>21.2.5</td>\n",
       "      <td>2021-09-19 16:34:43</td>\n",
       "    </tr>\n",
       "    <tr>\n",
       "      <th>4</th>\n",
       "      <td>gp:AOqpTOFioH3wud_JnC4aPCG4p7s5DEEN2yZAWNXdRJj...</td>\n",
       "      <td>Currently it's working good for me except a fe...</td>\n",
       "      <td>232</td>\n",
       "      <td>21.1.41</td>\n",
       "      <td>2021-09-14 06:35:02</td>\n",
       "    </tr>\n",
       "  </tbody>\n",
       "</table>\n",
       "</div>"
      ],
      "text/plain": [
       "                                           review_id  \\\n",
       "0  gp:AOqpTOGSsGv5rOA79ttW2LE0FeMYvkdUuXRMTfbyMk0...   \n",
       "1  gp:AOqpTOEDQ9__FJihY_0V4iwqy4P2OK8tGVR1tFBixYb...   \n",
       "2  gp:AOqpTOEGEfr8TL0iKTlpbTDeM8P7HywlMmP9CkHMoaT...   \n",
       "3  gp:AOqpTOGZBDl9dpghmb43Mx1tnlWCOjNXyuVn5Mxf49c...   \n",
       "4  gp:AOqpTOFioH3wud_JnC4aPCG4p7s5DEEN2yZAWNXdRJj...   \n",
       "\n",
       "                                         review_text  upvotes app_version  \\\n",
       "0  It is an excellent solution to finding videos ...      402      21.2.5   \n",
       "1  Great app works really well so many features s...       67      21.2.5   \n",
       "2  I down loaded app but didnt work . i love this...       24      21.2.5   \n",
       "3  IT A GREAT APP AND FUN TO USE! HOWEVER ARBITRA...       18      21.2.5   \n",
       "4  Currently it's working good for me except a fe...      232     21.1.41   \n",
       "\n",
       "           posted_date  \n",
       "0  2021-09-20 07:50:23  \n",
       "1  2021-09-19 23:10:47  \n",
       "2  2021-09-19 08:59:34  \n",
       "3  2021-09-19 16:34:43  \n",
       "4  2021-09-14 06:35:02  "
      ]
     },
     "execution_count": 8,
     "metadata": {},
     "output_type": "execute_result"
    }
   ],
   "source": [
    "reviewsDataset.head()"
   ]
  },
  {
   "cell_type": "code",
   "execution_count": 9,
   "metadata": {},
   "outputs": [
    {
     "data": {
      "text/plain": [
       "(3646476, 5)"
      ]
     },
     "execution_count": 9,
     "metadata": {},
     "output_type": "execute_result"
    }
   ],
   "source": [
    "reviewsDataset.shape"
   ]
  },
  {
   "cell_type": "code",
   "execution_count": 10,
   "metadata": {},
   "outputs": [],
   "source": [
    "reviewsDataset['posted_date'] = pd.to_datetime(reviewsDataset['posted_date'])"
   ]
  },
  {
   "cell_type": "code",
   "execution_count": 11,
   "metadata": {},
   "outputs": [
    {
     "name": "stdout",
     "output_type": "stream",
     "text": [
      "<class 'pandas.core.frame.DataFrame'>\n",
      "RangeIndex: 3646476 entries, 0 to 3646475\n",
      "Data columns (total 5 columns):\n",
      " #   Column       Dtype         \n",
      "---  ------       -----         \n",
      " 0   review_id    object        \n",
      " 1   review_text  object        \n",
      " 2   upvotes      int64         \n",
      " 3   app_version  object        \n",
      " 4   posted_date  datetime64[ns]\n",
      "dtypes: datetime64[ns](1), int64(1), object(3)\n",
      "memory usage: 139.1+ MB\n"
     ]
    }
   ],
   "source": [
    "reviewsDataset.info()"
   ]
  },
  {
   "cell_type": "markdown",
   "metadata": {},
   "source": [
    "#### Data Cleaning and Pre-processing"
   ]
  },
  {
   "cell_type": "markdown",
   "metadata": {},
   "source": [
    "Missing values and duplicate rows:"
   ]
  },
  {
   "cell_type": "code",
   "execution_count": 12,
   "metadata": {},
   "outputs": [
    {
     "name": "stdout",
     "output_type": "stream",
     "text": [
      "Number of duplicate rows: 0\n",
      "Number of rows with missing values: 993408\n"
     ]
    }
   ],
   "source": [
    "duplicate_rows = reviewsDataset.duplicated().sum()\n",
    "print(f\"Number of duplicate rows: {duplicate_rows}\")\n",
    "\n",
    "missing_value_rows = reviewsDataset.isnull().any(axis=1).sum()\n",
    "print(f\"Number of rows with missing values: {missing_value_rows}\")"
   ]
  },
  {
   "cell_type": "code",
   "execution_count": 13,
   "metadata": {},
   "outputs": [
    {
     "name": "stdout",
     "output_type": "stream",
     "text": [
      "Missing values count column-wise:\n",
      "review_text       163\n",
      "app_version    993269\n",
      "dtype: int64\n",
      "\n",
      "Percentage of data missing in each column:\n",
      "review_text     0.004470\n",
      "app_version    27.239148\n",
      "dtype: float64\n"
     ]
    }
   ],
   "source": [
    "missing_values_count = reviewsDataset.isnull().sum()\n",
    "missing_percent = (reviewsDataset.isnull().sum() / len(reviewsDataset)) * 100\n",
    "\n",
    "# Printing the number of missing values for each column\n",
    "print(\"Missing values count column-wise:\")\n",
    "print(missing_values_count[missing_values_count > 0])\n",
    "\n",
    "print(\"\\nPercentage of data missing in each column:\")\n",
    "print(missing_percent[missing_percent > 0])"
   ]
  },
  {
   "cell_type": "markdown",
   "metadata": {},
   "source": [
    "Removing the missing values from the review_text column but keeping the values as it is in the app_version column.   \n",
    "We can consider either analysing the text with or without the app_version column.   \n",
    "We can further analyse just the rows which have app version to identify any trends/patterns if they exist.\n"
   ]
  },
  {
   "cell_type": "code",
   "execution_count": 14,
   "metadata": {},
   "outputs": [
    {
     "name": "stdout",
     "output_type": "stream",
     "text": [
      "Missing values count after dropping missing 'review_text':\n",
      "app_version    993245\n",
      "dtype: int64\n"
     ]
    }
   ],
   "source": [
    "reviewsDataset.dropna(subset=['review_text'], inplace=True)\n",
    "\n",
    "missing_values_check = reviewsDataset.isnull().sum()\n",
    "print(\"Missing values count after dropping missing 'review_text':\")\n",
    "print(missing_values_check[missing_values_check > 0])\n"
   ]
  },
  {
   "cell_type": "markdown",
   "metadata": {},
   "source": [
    "Only the missing values in the app_version remain"
   ]
  },
  {
   "cell_type": "code",
   "execution_count": 15,
   "metadata": {},
   "outputs": [],
   "source": [
    "def preprocess_text(text):\n",
    "    text = text.lower()  # Convert to lowercase\n",
    "    text = re.sub('https?://\\S+|www\\.\\S+', '', text) # Removing any URL's if present\n",
    "    text = re.sub('<.*?>+', '', text) # Remove any html tags if present\n",
    "    text = re.sub('\\n', '', text) # Convert to single line text\n",
    "    text = re.sub(r'[^\\w\\s]', '', text)  # Remove punctuation\n",
    "    text = re.sub(r'[^\\x00-\\x7F]+', '', text)  # Remove non-ascii characters\n",
    "    text = ' '.join([word for word in text.split() if word not in stop_words])  # Remove stop words\n",
    "    text = ' '.join([lemmatizer.lemmatize(word) for word in text.split()])  # Lemmatize\n",
    "    return text\n",
    "\n",
    "stop_words = set(stopwords.words('english'))\n",
    "lemmatizer = WordNetLemmatizer()\n",
    "\n",
    "# Applying text preprocessing\n",
    "reviewsDataset['review_text'] = reviewsDataset['review_text'].apply(preprocess_text)\n"
   ]
  },
  {
   "cell_type": "code",
   "execution_count": 16,
   "metadata": {},
   "outputs": [
    {
     "data": {
      "text/html": [
       "<div>\n",
       "<style scoped>\n",
       "    .dataframe tbody tr th:only-of-type {\n",
       "        vertical-align: middle;\n",
       "    }\n",
       "\n",
       "    .dataframe tbody tr th {\n",
       "        vertical-align: top;\n",
       "    }\n",
       "\n",
       "    .dataframe thead th {\n",
       "        text-align: right;\n",
       "    }\n",
       "</style>\n",
       "<table border=\"1\" class=\"dataframe\">\n",
       "  <thead>\n",
       "    <tr style=\"text-align: right;\">\n",
       "      <th></th>\n",
       "      <th>review_id</th>\n",
       "      <th>review_text</th>\n",
       "      <th>upvotes</th>\n",
       "      <th>app_version</th>\n",
       "      <th>posted_date</th>\n",
       "    </tr>\n",
       "  </thead>\n",
       "  <tbody>\n",
       "    <tr>\n",
       "      <th>0</th>\n",
       "      <td>gp:AOqpTOGSsGv5rOA79ttW2LE0FeMYvkdUuXRMTfbyMk0...</td>\n",
       "      <td>excellent solution finding video following peo...</td>\n",
       "      <td>402</td>\n",
       "      <td>21.2.5</td>\n",
       "      <td>2021-09-20 07:50:23</td>\n",
       "    </tr>\n",
       "    <tr>\n",
       "      <th>1</th>\n",
       "      <td>gp:AOqpTOEDQ9__FJihY_0V4iwqy4P2OK8tGVR1tFBixYb...</td>\n",
       "      <td>great app work really well many feature many n...</td>\n",
       "      <td>67</td>\n",
       "      <td>21.2.5</td>\n",
       "      <td>2021-09-19 23:10:47</td>\n",
       "    </tr>\n",
       "    <tr>\n",
       "      <th>2</th>\n",
       "      <td>gp:AOqpTOEGEfr8TL0iKTlpbTDeM8P7HywlMmP9CkHMoaT...</td>\n",
       "      <td>loaded app didnt work love app could maybe fix...</td>\n",
       "      <td>24</td>\n",
       "      <td>21.2.5</td>\n",
       "      <td>2021-09-19 08:59:34</td>\n",
       "    </tr>\n",
       "    <tr>\n",
       "      <th>3</th>\n",
       "      <td>gp:AOqpTOGZBDl9dpghmb43Mx1tnlWCOjNXyuVn5Mxf49c...</td>\n",
       "      <td>great app fun use however arbitrary algorithm ...</td>\n",
       "      <td>18</td>\n",
       "      <td>21.2.5</td>\n",
       "      <td>2021-09-19 16:34:43</td>\n",
       "    </tr>\n",
       "    <tr>\n",
       "      <th>4</th>\n",
       "      <td>gp:AOqpTOFioH3wud_JnC4aPCG4p7s5DEEN2yZAWNXdRJj...</td>\n",
       "      <td>currently working good except clip video worke...</td>\n",
       "      <td>232</td>\n",
       "      <td>21.1.41</td>\n",
       "      <td>2021-09-14 06:35:02</td>\n",
       "    </tr>\n",
       "  </tbody>\n",
       "</table>\n",
       "</div>"
      ],
      "text/plain": [
       "                                           review_id  \\\n",
       "0  gp:AOqpTOGSsGv5rOA79ttW2LE0FeMYvkdUuXRMTfbyMk0...   \n",
       "1  gp:AOqpTOEDQ9__FJihY_0V4iwqy4P2OK8tGVR1tFBixYb...   \n",
       "2  gp:AOqpTOEGEfr8TL0iKTlpbTDeM8P7HywlMmP9CkHMoaT...   \n",
       "3  gp:AOqpTOGZBDl9dpghmb43Mx1tnlWCOjNXyuVn5Mxf49c...   \n",
       "4  gp:AOqpTOFioH3wud_JnC4aPCG4p7s5DEEN2yZAWNXdRJj...   \n",
       "\n",
       "                                         review_text  upvotes app_version  \\\n",
       "0  excellent solution finding video following peo...      402      21.2.5   \n",
       "1  great app work really well many feature many n...       67      21.2.5   \n",
       "2  loaded app didnt work love app could maybe fix...       24      21.2.5   \n",
       "3  great app fun use however arbitrary algorithm ...       18      21.2.5   \n",
       "4  currently working good except clip video worke...      232     21.1.41   \n",
       "\n",
       "          posted_date  \n",
       "0 2021-09-20 07:50:23  \n",
       "1 2021-09-19 23:10:47  \n",
       "2 2021-09-19 08:59:34  \n",
       "3 2021-09-19 16:34:43  \n",
       "4 2021-09-14 06:35:02  "
      ]
     },
     "execution_count": 16,
     "metadata": {},
     "output_type": "execute_result"
    }
   ],
   "source": [
    "reviewsDataset.head()"
   ]
  },
  {
   "cell_type": "markdown",
   "metadata": {},
   "source": [
    "#### EDA"
   ]
  },
  {
   "cell_type": "code",
   "execution_count": 17,
   "metadata": {},
   "outputs": [
    {
     "name": "stderr",
     "output_type": "stream",
     "text": [
      "[nltk_data] Downloading package vader_lexicon to\n",
      "[nltk_data]     C:\\Users\\devuj\\AppData\\Roaming\\nltk_data...\n",
      "[nltk_data]   Package vader_lexicon is already up-to-date!\n"
     ]
    },
    {
     "data": {
      "text/plain": [
       "True"
      ]
     },
     "execution_count": 17,
     "metadata": {},
     "output_type": "execute_result"
    }
   ],
   "source": [
    "nltk.download('vader_lexicon')"
   ]
  },
  {
   "cell_type": "markdown",
   "metadata": {},
   "source": [
    "#### VADER sentiment intensity analyzer"
   ]
  },
  {
   "cell_type": "code",
   "execution_count": 18,
   "metadata": {},
   "outputs": [],
   "source": [
    "sia = SentimentIntensityAnalyzer()\n",
    "\n",
    "def get_vader_sentiment(text):\n",
    "    score = sia.polarity_scores(text)['compound']\n",
    "    if score > 0.05:  # Positive sentiment\n",
    "        return 'positive'\n",
    "    elif score < -0.05:  # Negative sentiment\n",
    "        return 'negative'\n",
    "    else:  # Neutral sentiment\n",
    "        return 'neutral'\n",
    "\n",
    "# Applying VADER sentiment analysis\n",
    "reviewsDataset['sentiment'] = reviewsDataset['review_text'].apply(get_vader_sentiment)"
   ]
  },
  {
   "cell_type": "code",
   "execution_count": 19,
   "metadata": {},
   "outputs": [
    {
     "data": {
      "text/html": [
       "<div>\n",
       "<style scoped>\n",
       "    .dataframe tbody tr th:only-of-type {\n",
       "        vertical-align: middle;\n",
       "    }\n",
       "\n",
       "    .dataframe tbody tr th {\n",
       "        vertical-align: top;\n",
       "    }\n",
       "\n",
       "    .dataframe thead th {\n",
       "        text-align: right;\n",
       "    }\n",
       "</style>\n",
       "<table border=\"1\" class=\"dataframe\">\n",
       "  <thead>\n",
       "    <tr style=\"text-align: right;\">\n",
       "      <th></th>\n",
       "      <th>review_id</th>\n",
       "      <th>review_text</th>\n",
       "      <th>upvotes</th>\n",
       "      <th>app_version</th>\n",
       "      <th>posted_date</th>\n",
       "      <th>sentiment</th>\n",
       "    </tr>\n",
       "  </thead>\n",
       "  <tbody>\n",
       "    <tr>\n",
       "      <th>0</th>\n",
       "      <td>gp:AOqpTOGSsGv5rOA79ttW2LE0FeMYvkdUuXRMTfbyMk0...</td>\n",
       "      <td>excellent solution finding video following peo...</td>\n",
       "      <td>402</td>\n",
       "      <td>21.2.5</td>\n",
       "      <td>2021-09-20 07:50:23</td>\n",
       "      <td>positive</td>\n",
       "    </tr>\n",
       "    <tr>\n",
       "      <th>1</th>\n",
       "      <td>gp:AOqpTOEDQ9__FJihY_0V4iwqy4P2OK8tGVR1tFBixYb...</td>\n",
       "      <td>great app work really well many feature many n...</td>\n",
       "      <td>67</td>\n",
       "      <td>21.2.5</td>\n",
       "      <td>2021-09-19 23:10:47</td>\n",
       "      <td>positive</td>\n",
       "    </tr>\n",
       "    <tr>\n",
       "      <th>2</th>\n",
       "      <td>gp:AOqpTOEGEfr8TL0iKTlpbTDeM8P7HywlMmP9CkHMoaT...</td>\n",
       "      <td>loaded app didnt work love app could maybe fix...</td>\n",
       "      <td>24</td>\n",
       "      <td>21.2.5</td>\n",
       "      <td>2021-09-19 08:59:34</td>\n",
       "      <td>positive</td>\n",
       "    </tr>\n",
       "    <tr>\n",
       "      <th>3</th>\n",
       "      <td>gp:AOqpTOGZBDl9dpghmb43Mx1tnlWCOjNXyuVn5Mxf49c...</td>\n",
       "      <td>great app fun use however arbitrary algorithm ...</td>\n",
       "      <td>18</td>\n",
       "      <td>21.2.5</td>\n",
       "      <td>2021-09-19 16:34:43</td>\n",
       "      <td>positive</td>\n",
       "    </tr>\n",
       "    <tr>\n",
       "      <th>4</th>\n",
       "      <td>gp:AOqpTOFioH3wud_JnC4aPCG4p7s5DEEN2yZAWNXdRJj...</td>\n",
       "      <td>currently working good except clip video worke...</td>\n",
       "      <td>232</td>\n",
       "      <td>21.1.41</td>\n",
       "      <td>2021-09-14 06:35:02</td>\n",
       "      <td>negative</td>\n",
       "    </tr>\n",
       "  </tbody>\n",
       "</table>\n",
       "</div>"
      ],
      "text/plain": [
       "                                           review_id  \\\n",
       "0  gp:AOqpTOGSsGv5rOA79ttW2LE0FeMYvkdUuXRMTfbyMk0...   \n",
       "1  gp:AOqpTOEDQ9__FJihY_0V4iwqy4P2OK8tGVR1tFBixYb...   \n",
       "2  gp:AOqpTOEGEfr8TL0iKTlpbTDeM8P7HywlMmP9CkHMoaT...   \n",
       "3  gp:AOqpTOGZBDl9dpghmb43Mx1tnlWCOjNXyuVn5Mxf49c...   \n",
       "4  gp:AOqpTOFioH3wud_JnC4aPCG4p7s5DEEN2yZAWNXdRJj...   \n",
       "\n",
       "                                         review_text  upvotes app_version  \\\n",
       "0  excellent solution finding video following peo...      402      21.2.5   \n",
       "1  great app work really well many feature many n...       67      21.2.5   \n",
       "2  loaded app didnt work love app could maybe fix...       24      21.2.5   \n",
       "3  great app fun use however arbitrary algorithm ...       18      21.2.5   \n",
       "4  currently working good except clip video worke...      232     21.1.41   \n",
       "\n",
       "          posted_date sentiment  \n",
       "0 2021-09-20 07:50:23  positive  \n",
       "1 2021-09-19 23:10:47  positive  \n",
       "2 2021-09-19 08:59:34  positive  \n",
       "3 2021-09-19 16:34:43  positive  \n",
       "4 2021-09-14 06:35:02  negative  "
      ]
     },
     "execution_count": 19,
     "metadata": {},
     "output_type": "execute_result"
    }
   ],
   "source": [
    "reviewsDataset.head()"
   ]
  },
  {
   "cell_type": "code",
   "execution_count": 20,
   "metadata": {},
   "outputs": [
    {
     "data": {
      "image/png": "[encoded data removed]",
      "text/plain": [
       "<Figure size 1200x600 with 1 Axes>"
      ]
     },
     "metadata": {},
     "output_type": "display_data"
    }
   ],
   "source": [
    "# Aggregating data by date and sentiment\n",
    "trend_data = reviewsDataset.groupby([reviewsDataset['posted_date'].dt.date, 'sentiment']).size().unstack(fill_value=0)\n",
    "\n",
    "# Plotting the trend\n",
    "trend_data.plot(kind='line', figsize=(12, 6))\n",
    "plt.title('Sentiment Trend Over Time')\n",
    "plt.xlabel('Date')\n",
    "plt.ylabel('Number of Reviews')\n",
    "plt.show()"
   ]
  },
  {
   "cell_type": "code",
   "execution_count": 21,
   "metadata": {},
   "outputs": [
    {
     "data": {
      "image/png": "[encoded data removed]",
      "text/plain": [
       "<Figure size 640x480 with 1 Axes>"
      ]
     },
     "metadata": {},
     "output_type": "display_data"
    }
   ],
   "source": [
    "# Tokenization and word frequency calculation\n",
    "words = ' '.join(reviewsDataset['review_text']).split()\n",
    "word_counts = Counter(words)\n",
    "\n",
    "# Most common words?\n",
    "common_words = word_counts.most_common(25)\n",
    "\n",
    "# Plotting\n",
    "words_df = pd.DataFrame(common_words, columns=['Word', 'Frequency'])\n",
    "sns.barplot(x='Frequency', y='Word', data=words_df)\n",
    "plt.title('Top 20 Most Common Words')\n",
    "plt.show()\n"
   ]
  },
  {
   "cell_type": "code",
   "execution_count": 22,
   "metadata": {},
   "outputs": [
    {
     "name": "stdout",
     "output_type": "stream",
     "text": [
      "Correlation between upvotes and sentiment:\n",
      "                    upvotes  sentiment_numeric\n",
      "upvotes            1.000000           0.005273\n",
      "sentiment_numeric  0.005273           1.000000\n"
     ]
    }
   ],
   "source": [
    "# Mapping sentiment to a numeric scale (optional, based on analysis needs)\n",
    "sentiment_map = {'positive': 1, 'neutral': 0, 'negative': -1}\n",
    "reviewsDataset['sentiment_numeric'] = reviewsDataset['sentiment'].map(sentiment_map)\n",
    "\n",
    "# Correlation analysis\n",
    "correlation = reviewsDataset[['upvotes', 'sentiment_numeric']].corr()\n",
    "\n",
    "print(\"Correlation between upvotes and sentiment:\")\n",
    "print(correlation)\n"
   ]
  },
  {
   "cell_type": "markdown",
   "metadata": {},
   "source": [
    "Class Distribution:"
   ]
  },
  {
   "cell_type": "code",
   "execution_count": 23,
   "metadata": {},
   "outputs": [
    {
     "data": {
      "image/png": "[encoded data removed]",
      "text/plain": [
       "<Figure size 800x600 with 1 Axes>"
      ]
     },
     "metadata": {},
     "output_type": "display_data"
    }
   ],
   "source": [
    "sentiment_distribution = reviewsDataset['sentiment'].value_counts(normalize=True) * 100\n",
    "\n",
    "# Plotting the sentiment distribution\n",
    "plt.figure(figsize=(8, 6))\n",
    "sentiment_distribution.plot(kind='bar')\n",
    "plt.title('Sentiment Distribution')\n",
    "plt.xlabel('Sentiment')\n",
    "plt.ylabel('Percentage')\n",
    "plt.xticks(rotation=0) \n",
    "plt.show()"
   ]
  },
  {
   "cell_type": "code",
   "execution_count": 24,
   "metadata": {},
   "outputs": [
    {
     "data": {
      "text/plain": [
       "<Figure size 1500x800 with 0 Axes>"
      ]
     },
     "metadata": {},
     "output_type": "display_data"
    },
    {
     "data": {
      "image/png": "[encoded data removed]",
      "text/plain": [
       "<Figure size 640x480 with 1 Axes>"
      ]
     },
     "metadata": {},
     "output_type": "display_data"
    }
   ],
   "source": [
    "# Aggregating sentiment by app version\n",
    "app_version_sentiment = reviewsDataset.groupby('app_version')['sentiment'].value_counts(normalize=True).unstack().fillna(0)\n",
    "top_versions = reviewsDataset['app_version'].value_counts().nlargest(20).index\n",
    "filtered_data = app_version_sentiment.loc[top_versions]\n",
    "\n",
    "# Plotting the sentiment distribution for the top app versions\n",
    "plt.figure(figsize=(15, 8))  # Increase figure size for better readability\n",
    "filtered_data.plot(kind='bar', stacked=True)\n",
    "plt.title('Sentiment Distribution by Top App Versions')\n",
    "plt.xticks(rotation=45, ha='right')  # Rotate x-axis labels for better readability\n",
    "plt.xlabel('App Version')\n",
    "plt.ylabel('Proportion of Sentiments')\n",
    "plt.legend(title='Sentiment')\n",
    "plt.tight_layout()  # Adjust layout to fit labels\n",
    "plt.show()\n"
   ]
  },
  {
   "cell_type": "code",
   "execution_count": 25,
   "metadata": {},
   "outputs": [
    {
     "data": {
      "image/png": "[encoded data removed]",
      "text/plain": [
       "<Figure size 1000x600 with 1 Axes>"
      ]
     },
     "metadata": {},
     "output_type": "display_data"
    }
   ],
   "source": [
    "sia = SentimentIntensityAnalyzer()\n",
    "reviewsDataset['sentiment_score'] = reviewsDataset['review_text'].apply(lambda x: sia.polarity_scores(x)['compound'])\n",
    "\n",
    "# Plotting the sentiment score distribution\n",
    "plt.figure(figsize=(10, 6))\n",
    "sns.histplot(reviewsDataset['sentiment_score'], bins=50, kde=False)\n",
    "plt.title('Sentiment Score Distribution')\n",
    "plt.xlabel('Sentiment Score')\n",
    "plt.ylabel('Frequency')\n",
    "plt.show()\n"
   ]
  },
  {
   "cell_type": "markdown",
   "metadata": {},
   "source": [
    "### Feature Extraction \n",
    "\n",
    "#### BERT \n"
   ]
  },
  {
   "cell_type": "code",
   "execution_count": 27,
   "metadata": {},
   "outputs": [],
   "source": [
    "def tokenize_texts(texts, tokenizer, max_length=512):\n",
    "    return [tokenizer(text, max_length=max_length, padding='max_length', truncation=True, return_tensors=\"pt\") for text in texts]\n",
    "\n",
    "# Function to extract features\n",
    "def extract_features(encoded_texts, model, device):\n",
    "    model.eval()\n",
    "    model.to(device)\n",
    "    features = []\n",
    "\n",
    "    with torch.no_grad():\n",
    "        for encoded_text in encoded_texts:\n",
    "            input_ids = encoded_text['input_ids'].to(device)\n",
    "            attention_mask = encoded_text['attention_mask'].to(device)\n",
    "            output = model(input_ids, attention_mask=attention_mask)\n",
    "            features.append(output.last_hidden_state[:,0,:].detach().cpu().numpy())\n",
    "    features = np.vstack(features)\n",
    "    return features\n",
    "def bert_feature_extraction(texts, model_name='bert-base-uncased', batch_size=32):\n",
    "    tokenizer = BertTokenizer.from_pretrained(model_name)\n",
    "    model = BertModel.from_pretrained(model_name)\n",
    "    device = torch.device('cuda' if torch.cuda.is_available() else 'cpu')\n",
    "    \n",
    "    features = []\n",
    "    for i in range(0, len(texts), batch_size):\n",
    "        batch_texts = texts[i:i+batch_size]\n",
    "        tokenized_texts = tokenize_texts(batch_texts, tokenizer)\n",
    "        batch_features = extract_features(tokenized_texts, model, device)\n",
    "        features.append(batch_features)\n",
    "    features = np.vstack(features)\n",
    "    features_df = pd.DataFrame(features)\n",
    "    return features_df\n"
   ]
  },
  {
   "cell_type": "code",
   "execution_count": 32,
   "metadata": {},
   "outputs": [
    {
     "data": {
      "application/vnd.jupyter.widget-view+json": {
       "model_id": "0e6ec2b58c384927b4a2c5c8a4b3fe25",
       "version_major": 2,
       "version_minor": 0
      },
      "text/plain": [
       "tokenizer_config.json:   0%|          | 0.00/48.0 [00:00<?, ?B/s]"
      ]
     },
     "metadata": {},
     "output_type": "display_data"
    },
    {
     "name": "stderr",
     "output_type": "stream",
     "text": [
      "c:\\Users\\devuj\\anaconda3\\envs\\tensorflow_gpu\\lib\\site-packages\\huggingface_hub\\file_download.py:148: UserWarning: `huggingface_hub` cache-system uses symlinks by default to efficiently store duplicated files but your machine does not support them in C:\\Users\\devuj\\.cache\\huggingface\\hub\\models--bert-base-uncased. Caching files will still work but in a degraded version that might require more space on your disk. This warning can be disabled by setting the `HF_HUB_DISABLE_SYMLINKS_WARNING` environment variable. For more details, see https://huggingface.co/docs/huggingface_hub/how-to-cache#limitations.\n",
      "To support symlinks on Windows, you either need to activate Developer Mode or to run Python as an administrator. In order to see activate developer mode, see this article: https://docs.microsoft.com/en-us/windows/apps/get-started/enable-your-device-for-development\n",
      "  warnings.warn(message)\n"
     ]
    },
    {
     "data": {
      "application/vnd.jupyter.widget-view+json": {
       "model_id": "ace60cab27154b18981a49d42c45e396",
       "version_major": 2,
       "version_minor": 0
      },
      "text/plain": [
       "vocab.txt:   0%|          | 0.00/232k [00:00<?, ?B/s]"
      ]
     },
     "metadata": {},
     "output_type": "display_data"
    },
    {
     "data": {
      "application/vnd.jupyter.widget-view+json": {
       "model_id": "880ac1db36814f358b42e028c00d0073",
       "version_major": 2,
       "version_minor": 0
      },
      "text/plain": [
       "tokenizer.json:   0%|          | 0.00/466k [00:00<?, ?B/s]"
      ]
     },
     "metadata": {},
     "output_type": "display_data"
    },
    {
     "data": {
      "application/vnd.jupyter.widget-view+json": {
       "model_id": "736ee32fb8f74141aa9ffaa7812cd9a8",
       "version_major": 2,
       "version_minor": 0
      },
      "text/plain": [
       "config.json:   0%|          | 0.00/570 [00:00<?, ?B/s]"
      ]
     },
     "metadata": {},
     "output_type": "display_data"
    },
    {
     "data": {
      "application/vnd.jupyter.widget-view+json": {
       "model_id": "9dc11a37d7394429993e69bdac5aa5bc",
       "version_major": 2,
       "version_minor": 0
      },
      "text/plain": [
       "model.safetensors:   0%|          | 0.00/440M [00:00<?, ?B/s]"
      ]
     },
     "metadata": {},
     "output_type": "display_data"
    },
    {
     "data": {
      "text/html": [
       "<div>\n",
       "<style scoped>\n",
       "    .dataframe tbody tr th:only-of-type {\n",
       "        vertical-align: middle;\n",
       "    }\n",
       "\n",
       "    .dataframe tbody tr th {\n",
       "        vertical-align: top;\n",
       "    }\n",
       "\n",
       "    .dataframe thead th {\n",
       "        text-align: right;\n",
       "    }\n",
       "</style>\n",
       "<table border=\"1\" class=\"dataframe\">\n",
       "  <thead>\n",
       "    <tr style=\"text-align: right;\">\n",
       "      <th></th>\n",
       "      <th>review_id</th>\n",
       "      <th>review_text</th>\n",
       "      <th>upvotes</th>\n",
       "      <th>app_version</th>\n",
       "      <th>posted_date</th>\n",
       "      <th>sentiment</th>\n",
       "      <th>sentiment_numeric</th>\n",
       "      <th>sentiment_score</th>\n",
       "      <th>0</th>\n",
       "      <th>1</th>\n",
       "      <th>...</th>\n",
       "      <th>758</th>\n",
       "      <th>759</th>\n",
       "      <th>760</th>\n",
       "      <th>761</th>\n",
       "      <th>762</th>\n",
       "      <th>763</th>\n",
       "      <th>764</th>\n",
       "      <th>765</th>\n",
       "      <th>766</th>\n",
       "      <th>767</th>\n",
       "    </tr>\n",
       "  </thead>\n",
       "  <tbody>\n",
       "    <tr>\n",
       "      <th>0</th>\n",
       "      <td>gp:AOqpTOGSsGv5rOA79ttW2LE0FeMYvkdUuXRMTfbyMk0...</td>\n",
       "      <td>excellent solution finding video following peo...</td>\n",
       "      <td>402</td>\n",
       "      <td>21.2.5</td>\n",
       "      <td>2021-09-20 07:50:23</td>\n",
       "      <td>positive</td>\n",
       "      <td>1</td>\n",
       "      <td>0.9524</td>\n",
       "      <td>-0.179065</td>\n",
       "      <td>0.203405</td>\n",
       "      <td>...</td>\n",
       "      <td>-0.290796</td>\n",
       "      <td>-0.645663</td>\n",
       "      <td>-0.017522</td>\n",
       "      <td>0.047931</td>\n",
       "      <td>-0.059548</td>\n",
       "      <td>-0.246356</td>\n",
       "      <td>0.099235</td>\n",
       "      <td>-0.524268</td>\n",
       "      <td>0.112594</td>\n",
       "      <td>0.479265</td>\n",
       "    </tr>\n",
       "    <tr>\n",
       "      <th>1</th>\n",
       "      <td>gp:AOqpTOEDQ9__FJihY_0V4iwqy4P2OK8tGVR1tFBixYb...</td>\n",
       "      <td>great app work really well many feature many n...</td>\n",
       "      <td>67</td>\n",
       "      <td>21.2.5</td>\n",
       "      <td>2021-09-19 23:10:47</td>\n",
       "      <td>positive</td>\n",
       "      <td>1</td>\n",
       "      <td>0.9828</td>\n",
       "      <td>-0.153612</td>\n",
       "      <td>-0.039287</td>\n",
       "      <td>...</td>\n",
       "      <td>0.173922</td>\n",
       "      <td>-0.553772</td>\n",
       "      <td>0.137671</td>\n",
       "      <td>0.220792</td>\n",
       "      <td>0.442595</td>\n",
       "      <td>0.036940</td>\n",
       "      <td>-0.225376</td>\n",
       "      <td>-0.377909</td>\n",
       "      <td>-0.175259</td>\n",
       "      <td>-0.000150</td>\n",
       "    </tr>\n",
       "    <tr>\n",
       "      <th>2</th>\n",
       "      <td>gp:AOqpTOEGEfr8TL0iKTlpbTDeM8P7HywlMmP9CkHMoaT...</td>\n",
       "      <td>loaded app didnt work love app could maybe fix...</td>\n",
       "      <td>24</td>\n",
       "      <td>21.2.5</td>\n",
       "      <td>2021-09-19 08:59:34</td>\n",
       "      <td>positive</td>\n",
       "      <td>1</td>\n",
       "      <td>0.8415</td>\n",
       "      <td>-0.289208</td>\n",
       "      <td>0.189449</td>\n",
       "      <td>...</td>\n",
       "      <td>0.006683</td>\n",
       "      <td>-0.477721</td>\n",
       "      <td>0.323896</td>\n",
       "      <td>0.217742</td>\n",
       "      <td>0.242239</td>\n",
       "      <td>0.102750</td>\n",
       "      <td>-0.134632</td>\n",
       "      <td>-0.799443</td>\n",
       "      <td>0.231517</td>\n",
       "      <td>0.427977</td>\n",
       "    </tr>\n",
       "    <tr>\n",
       "      <th>3</th>\n",
       "      <td>gp:AOqpTOGZBDl9dpghmb43Mx1tnlWCOjNXyuVn5Mxf49c...</td>\n",
       "      <td>great app fun use however arbitrary algorithm ...</td>\n",
       "      <td>18</td>\n",
       "      <td>21.2.5</td>\n",
       "      <td>2021-09-19 16:34:43</td>\n",
       "      <td>positive</td>\n",
       "      <td>1</td>\n",
       "      <td>0.8720</td>\n",
       "      <td>0.007291</td>\n",
       "      <td>0.106518</td>\n",
       "      <td>...</td>\n",
       "      <td>-0.187318</td>\n",
       "      <td>-0.401200</td>\n",
       "      <td>-0.249922</td>\n",
       "      <td>-0.048913</td>\n",
       "      <td>0.257055</td>\n",
       "      <td>0.050896</td>\n",
       "      <td>-0.271289</td>\n",
       "      <td>-0.434148</td>\n",
       "      <td>0.228405</td>\n",
       "      <td>0.342699</td>\n",
       "    </tr>\n",
       "    <tr>\n",
       "      <th>4</th>\n",
       "      <td>gp:AOqpTOFioH3wud_JnC4aPCG4p7s5DEEN2yZAWNXdRJj...</td>\n",
       "      <td>currently working good except clip video worke...</td>\n",
       "      <td>232</td>\n",
       "      <td>21.1.41</td>\n",
       "      <td>2021-09-14 06:35:02</td>\n",
       "      <td>negative</td>\n",
       "      <td>-1</td>\n",
       "      <td>-0.4614</td>\n",
       "      <td>-0.451031</td>\n",
       "      <td>0.073649</td>\n",
       "      <td>...</td>\n",
       "      <td>0.166171</td>\n",
       "      <td>-0.565123</td>\n",
       "      <td>0.137808</td>\n",
       "      <td>0.195580</td>\n",
       "      <td>0.191488</td>\n",
       "      <td>0.302790</td>\n",
       "      <td>-0.119977</td>\n",
       "      <td>-0.684306</td>\n",
       "      <td>0.262710</td>\n",
       "      <td>0.138893</td>\n",
       "    </tr>\n",
       "  </tbody>\n",
       "</table>\n",
       "<p>5 rows × 776 columns</p>\n",
       "</div>"
      ],
      "text/plain": [
       "                                           review_id  \\\n",
       "0  gp:AOqpTOGSsGv5rOA79ttW2LE0FeMYvkdUuXRMTfbyMk0...   \n",
       "1  gp:AOqpTOEDQ9__FJihY_0V4iwqy4P2OK8tGVR1tFBixYb...   \n",
       "2  gp:AOqpTOEGEfr8TL0iKTlpbTDeM8P7HywlMmP9CkHMoaT...   \n",
       "3  gp:AOqpTOGZBDl9dpghmb43Mx1tnlWCOjNXyuVn5Mxf49c...   \n",
       "4  gp:AOqpTOFioH3wud_JnC4aPCG4p7s5DEEN2yZAWNXdRJj...   \n",
       "\n",
       "                                         review_text  upvotes app_version  \\\n",
       "0  excellent solution finding video following peo...      402      21.2.5   \n",
       "1  great app work really well many feature many n...       67      21.2.5   \n",
       "2  loaded app didnt work love app could maybe fix...       24      21.2.5   \n",
       "3  great app fun use however arbitrary algorithm ...       18      21.2.5   \n",
       "4  currently working good except clip video worke...      232     21.1.41   \n",
       "\n",
       "          posted_date sentiment  sentiment_numeric  sentiment_score         0  \\\n",
       "0 2021-09-20 07:50:23  positive                  1           0.9524 -0.179065   \n",
       "1 2021-09-19 23:10:47  positive                  1           0.9828 -0.153612   \n",
       "2 2021-09-19 08:59:34  positive                  1           0.8415 -0.289208   \n",
       "3 2021-09-19 16:34:43  positive                  1           0.8720  0.007291   \n",
       "4 2021-09-14 06:35:02  negative                 -1          -0.4614 -0.451031   \n",
       "\n",
       "          1  ...       758       759       760       761       762       763  \\\n",
       "0  0.203405  ... -0.290796 -0.645663 -0.017522  0.047931 -0.059548 -0.246356   \n",
       "1 -0.039287  ...  0.173922 -0.553772  0.137671  0.220792  0.442595  0.036940   \n",
       "2  0.189449  ...  0.006683 -0.477721  0.323896  0.217742  0.242239  0.102750   \n",
       "3  0.106518  ... -0.187318 -0.401200 -0.249922 -0.048913  0.257055  0.050896   \n",
       "4  0.073649  ...  0.166171 -0.565123  0.137808  0.195580  0.191488  0.302790   \n",
       "\n",
       "        764       765       766       767  \n",
       "0  0.099235 -0.524268  0.112594  0.479265  \n",
       "1 -0.225376 -0.377909 -0.175259 -0.000150  \n",
       "2 -0.134632 -0.799443  0.231517  0.427977  \n",
       "3 -0.271289 -0.434148  0.228405  0.342699  \n",
       "4 -0.119977 -0.684306  0.262710  0.138893  \n",
       "\n",
       "[5 rows x 776 columns]"
      ]
     },
     "execution_count": 32,
     "metadata": {},
     "output_type": "execute_result"
    }
   ],
   "source": [
    "sample_texts = reviewsDataset['review_text'][:10].tolist() \n",
    "bert_features_df = bert_feature_extraction(sample_texts)\n",
    "reviewsDataset_bert = reviewsDataset[:10].join(bert_features_df)\n",
    "reviewsDataset_bert.head()"
   ]
  },
  {
   "cell_type": "markdown",
   "metadata": {},
   "source": [
    "Sentiments are categorized as positive or negative, with corresponding numeric and score values indicating the strength of the sentiment. \n",
    "\n",
    "The reviews cover various aspects of the app's performance, features, and user experience, with sentiment scores ranging from highly positive (0.9828) to negative (-0.4614)."
   ]
  },
  {
   "cell_type": "markdown",
   "metadata": {},
   "source": [
    "### Named Entity Recognition"
   ]
  },
  {
   "cell_type": "code",
   "execution_count": 33,
   "metadata": {},
   "outputs": [
    {
     "name": "stderr",
     "output_type": "stream",
     "text": [
      "[nltk_data] Downloading package punkt to\n",
      "[nltk_data]     C:\\Users\\devuj\\AppData\\Roaming\\nltk_data...\n",
      "[nltk_data]   Package punkt is already up-to-date!\n",
      "[nltk_data] Downloading package averaged_perceptron_tagger to\n",
      "[nltk_data]     C:\\Users\\devuj\\AppData\\Roaming\\nltk_data...\n",
      "[nltk_data]   Package averaged_perceptron_tagger is already up-to-\n",
      "[nltk_data]       date!\n",
      "[nltk_data] Downloading package maxent_ne_chunker to\n",
      "[nltk_data]     C:\\Users\\devuj\\AppData\\Roaming\\nltk_data...\n",
      "[nltk_data]   Unzipping chunkers\\maxent_ne_chunker.zip.\n",
      "[nltk_data] Downloading package words to\n",
      "[nltk_data]     C:\\Users\\devuj\\AppData\\Roaming\\nltk_data...\n",
      "[nltk_data]   Unzipping corpora\\words.zip.\n"
     ]
    },
    {
     "data": {
      "text/plain": [
       "True"
      ]
     },
     "execution_count": 33,
     "metadata": {},
     "output_type": "execute_result"
    }
   ],
   "source": [
    "nltk.download('punkt')\n",
    "nltk.download('averaged_perceptron_tagger')\n",
    "nltk.download('maxent_ne_chunker')\n",
    "nltk.download('words')\n"
   ]
  },
  {
   "cell_type": "code",
   "execution_count": 34,
   "metadata": {},
   "outputs": [
    {
     "name": "stdout",
     "output_type": "stream",
     "text": [
      "[('Apple', 'PERSON'), ('Inc.', 'ORGANIZATION')]\n"
     ]
    }
   ],
   "source": [
    "def extract_named_entities(text):\n",
    "    tokens = word_tokenize(text)\n",
    "    tagged_tokens = pos_tag(tokens)\n",
    "    named_entities_tree = ne_chunk(tagged_tokens)\n",
    "    named_entities = []\n",
    "    for tree in named_entities_tree:\n",
    "        if hasattr(tree, 'label'):\n",
    "            entity_name = ' '.join(c[0] for c in tree.leaves())  \n",
    "            entity_type = tree.label()  \n",
    "            named_entities.append((entity_name, entity_type))\n",
    "    \n",
    "    return named_entities\n",
    "text = \"Apple Inc. is looking at buying U.K. startup for $1 billion\"\n",
    "named_entities = extract_named_entities(text)\n",
    "print(named_entities)\n"
   ]
  },
  {
   "cell_type": "markdown",
   "metadata": {},
   "source": [
    "### Topic Modeling/Trends\n",
    "- Latent Dirichlet Allocation (LDA)"
   ]
  },
  {
   "cell_type": "code",
   "execution_count": 35,
   "metadata": {},
   "outputs": [
    {
     "name": "stdout",
     "output_type": "stream",
     "text": [
      "(0, '0.023*\"video\" + 0.017*\"app\" + 0.017*\"good\" + 0.016*\"like\" + 0.014*\"people\"')\n",
      "(1, '0.043*\"video\" + 0.040*\"app\" + 0.023*\"great\" + 0.020*\"fun\" + 0.016*\"make\"')\n",
      "(2, '0.041*\"app\" + 0.020*\"love\" + 0.014*\"fun\" + 0.014*\"people\" + 0.013*\"get\"')\n",
      "(3, '0.047*\"app\" + 0.037*\"video\" + 0.026*\"fun\" + 0.024*\"love\" + 0.015*\"watch\"')\n",
      "(4, '0.040*\"app\" + 0.022*\"like\" + 0.018*\"make\" + 0.017*\"really\" + 0.015*\"people\"')\n",
      "(5, '0.043*\"app\" + 0.023*\"video\" + 0.021*\"love\" + 0.020*\"like\" + 0.018*\"tiktok\"')\n",
      "(6, '0.052*\"app\" + 0.021*\"like\" + 0.019*\"dont\" + 0.015*\"great\" + 0.012*\"love\"')\n",
      "(7, '0.027*\"people\" + 0.017*\"video\" + 0.016*\"love\" + 0.015*\"time\" + 0.014*\"amazing\"')\n",
      "(8, '0.041*\"app\" + 0.015*\"love\" + 0.011*\"one\" + 0.010*\"thing\" + 0.009*\"like\"')\n",
      "(9, '0.028*\"love\" + 0.025*\"app\" + 0.014*\"friend\" + 0.014*\"video\" + 0.012*\"thing\"')\n"
     ]
    }
   ],
   "source": [
    "texts = [[word for word in document.lower().split()] for document in reviewsDataset['review_text'].head(1000)]\n",
    "\n",
    "# Create a corpus from a list of texts\n",
    "dictionary = corpora.Dictionary(texts)\n",
    "corpus = [dictionary.doc2bow(text) for text in texts]\n",
    "\n",
    "# Train the LDA model\n",
    "lda_model = models.LdaModel(corpus=corpus, id2word=dictionary, num_topics=10, passes=15)\n",
    "\n",
    "# Print topics\n",
    "topics = lda_model.print_topics(num_words=5)\n",
    "for topic in topics:\n",
    "    print(topic)\n"
   ]
  },
  {
   "cell_type": "markdown",
   "metadata": {},
   "source": [
    "This indicates a diverse range of discussions or reviews related to the app's various aspects, from content creation and enjoyment to technical feedback."
   ]
  },
  {
   "cell_type": "code",
   "execution_count": 36,
   "metadata": {},
   "outputs": [
    {
     "name": "stderr",
     "output_type": "stream",
     "text": [
      "[nltk_data] Downloading package wordnet to\n",
      "[nltk_data]     C:\\Users\\devuj\\AppData\\Roaming\\nltk_data...\n",
      "[nltk_data]   Package wordnet is already up-to-date!\n"
     ]
    }
   ],
   "source": [
    "nltk.download('wordnet')\n",
    "\n",
    "def lemmatize_stemming(text):\n",
    "    stemmer = SnowballStemmer('english')\n",
    "    return stemmer.stem(WordNetLemmatizer().lemmatize(text, pos='v'))\n",
    "\n",
    "def preprocess(text):\n",
    "    result = []\n",
    "    for token in gensim.utils.simple_preprocess(text):\n",
    "        if token not in gensim.parsing.preprocessing.STOPWORDS and len(token) > 3:\n",
    "            result.append(lemmatize_stemming(token))\n",
    "    return result\n"
   ]
  },
  {
   "cell_type": "code",
   "execution_count": null,
   "metadata": {},
   "outputs": [
    {
     "name": "stdout",
     "output_type": "stream",
     "text": [
      "Topic: 0 \n",
      "Words: 0.267*\"music\" + 0.023*\"khan\" + 0.021*\"updat\" + 0.020*\"favorit\" + 0.018*\"star\" + 0.018*\"better\" + 0.016*\"kumar\" + 0.016*\"want\" + 0.012*\"year\" + 0.010*\"daughter\"\n",
      "\n",
      "Topic: 1 \n",
      "Words: 0.084*\"thank\" + 0.069*\"tiktok\" + 0.036*\"live\" + 0.021*\"help\" + 0.019*\"bhai\" + 0.015*\"singh\" + 0.015*\"account\" + 0.014*\"dope\" + 0.012*\"hard\" + 0.012*\"problem\"\n",
      "\n",
      "Topic: 2 \n",
      "Words: 0.744*\"love\" + 0.109*\"great\" + 0.012*\"awsm\" + 0.008*\"express\" + 0.007*\"ilov\" + 0.006*\"musiclli\" + 0.006*\"creativ\" + 0.006*\"excel\" + 0.005*\"king\" + 0.005*\"soooo\"\n",
      "\n",
      "Topic: 3 \n",
      "Words: 0.191*\"video\" + 0.122*\"song\" + 0.070*\"easi\" + 0.045*\"make\" + 0.027*\"nise\" + 0.026*\"post\" + 0.022*\"watch\" + 0.021*\"qualiti\" + 0.018*\"sync\" + 0.018*\"naic\"\n",
      "\n",
      "Topic: 4 \n",
      "Words: 0.530*\"best\" + 0.068*\"supper\" + 0.067*\"entertain\" + 0.025*\"bore\" + 0.022*\"social\" + 0.019*\"recommend\" + 0.016*\"total\" + 0.016*\"semma\" + 0.013*\"use\" + 0.012*\"medium\"\n",
      "\n",
      "Topic: 5 \n",
      "Words: 0.312*\"awesom\" + 0.098*\"addict\" + 0.073*\"time\" + 0.068*\"game\" + 0.067*\"download\" + 0.038*\"work\" + 0.022*\"play\" + 0.019*\"android\" + 0.016*\"phone\" + 0.014*\"musicali\"\n",
      "\n",
      "Topic: 6 \n",
      "Words: 0.421*\"super\" + 0.174*\"amaz\" + 0.155*\"cool\" + 0.058*\"funni\" + 0.034*\"awsom\" + 0.020*\"danc\" + 0.011*\"wonder\" + 0.010*\"beauti\" + 0.009*\"word\" + 0.007*\"asom\"\n",
      "\n",
      "Topic: 7 \n",
      "Words: 0.425*\"good\" + 0.253*\"nice\" + 0.071*\"mast\" + 0.044*\"app\" + 0.025*\"supar\" + 0.017*\"applic\" + 0.015*\"osam\" + 0.014*\"fantast\" + 0.011*\"appp\" + 0.008*\"experi\"\n",
      "\n",
      "Topic: 8 \n",
      "Words: 0.187*\"friend\" + 0.065*\"life\" + 0.061*\"sing\" + 0.049*\"enjoy\" + 0.047*\"world\" + 0.040*\"perfect\" + 0.037*\"happi\" + 0.033*\"interest\" + 0.028*\"talk\" + 0.026*\"feel\"\n",
      "\n",
      "Topic: 9 \n",
      "Words: 0.339*\"like\" + 0.123*\"think\" + 0.048*\"peopl\" + 0.040*\"follow\" + 0.040*\"thing\" + 0.032*\"dont\" + 0.019*\"need\" + 0.018*\"know\" + 0.015*\"famous\" + 0.012*\"pretti\"\n",
      "\n"
     ]
    }
   ],
   "source": [
    "documents = reviewsDataset['review_text']\n",
    "processed_docs = documents.map(preprocess)\n",
    "dictionary = gensim.corpora.Dictionary(processed_docs)\n",
    "dictionary.filter_extremes(no_below=15, no_above=0.5, keep_n=100000)\n",
    "bow_corpus = [dictionary.doc2bow(doc) for doc in processed_docs]\n",
    "lda_model = gensim.models.LdaMulticore(bow_corpus, num_topics=10, id2word=dictionary, passes=2, workers=2)\n",
    "for idx, topic in lda_model.print_topics(-1):\n",
    "    print(f'Topic: {idx} \\nWords: {topic}\\n')\n"
   ]
  },
  {
   "cell_type": "markdown",
   "metadata": {},
   "source": [
    "The topics extracted from the text data underscore diverse aspects of user engagement on the social media platform TikTok. These encompass appreciation for music and celebrities, expressions of gratitude and support for the app, overwhelmingly positive sentiments such as love and admiration, and discussions regarding content creation, entertainment value, engagement, and downloads. Additional themes include fun and amusement, positive feedback, social connectivity, and opinions on social dynamics. Collectively, these topics depict a lively community that prioritizes creativity, entertainment, social interaction, and the platform's contribution to enriching their digital and social experiences."
   ]
  },
  {
   "cell_type": "markdown",
   "metadata": {},
   "source": [
    "# Based on the analyses conducted:\n",
    "\n",
    "1. **Most Praised Features:**\n",
    "   - Music-related content receives high praise, indicating a strong user interest in this aspect.\n",
    "   - Positive sentiments towards content creation tools and ease of use.\n",
    "   - Appreciation for entertainment value and addictive nature of the app.\n",
    "   - Positive feedback on app functionality, including smooth performance and user interface.\n",
    "\n",
    "2. **Common Complaints:**\n",
    "   - Limited mentions of specific complaints, but negative sentiment towards content quality and boredom.\n",
    "   - Some users experience technical issues, such as video clipping problems.\n",
    "   - Some dissatisfaction with algorithmic decisions, possibly affecting user experience negatively.\n",
    "\n",
    "3. **Suggested Improvements:**\n",
    "   - Enhance content quality control measures to address complaints about boring or repetitive content.\n",
    "   - Improve technical performance to resolve issues like video clipping and algorithmic decision-making.\n",
    "   - Incorporate user feedback mechanisms to better understand and address user concerns.\n",
    "\n",
    "**Recommendations for Product Development and Customer Satisfaction Improvement:**\n",
    "   - Focus on enhancing music-related features and content to capitalize on positive sentiments in this area.\n",
    "   - Prioritize technical improvements to resolve reported issues and ensure a smoother user experience.\n",
    "   - Implement user feedback loops to gather insights continually and iteratively improve the app based on user preferences and needs.\n",
    "   - Invest in quality control measures to maintain a high standard of content and address user complaints about boredom or repetitive content.\n",
    "\n",
    "By implementing these strategies, the app can enhance its offerings, address user concerns, and ultimately improve customer satisfaction, leading to increased user engagement and loyalty."
   ]
  }
 ],
 "metadata": {
  "kernelspec": {
   "display_name": "Python 3",
   "language": "python",
   "name": "python3"
  },
  "language_info": {
   "codemirror_mode": {
    "name": "ipython",
    "version": 3
   },
   "file_extension": ".py",
   "mimetype": "text/x-python",
   "name": "python",
   "nbconvert_exporter": "python",
   "pygments_lexer": "ipython3",
   "version": "3.11.0"
  }
 },
 "nbformat": 4,
 "nbformat_minor": 2
}
